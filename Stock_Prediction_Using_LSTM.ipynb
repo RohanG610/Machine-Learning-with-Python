{
  "cells": [
    {
      "cell_type": "markdown",
      "metadata": {
        "id": "view-in-github",
        "colab_type": "text"
      },
      "source": [
        "<a href=\"https://colab.research.google.com/github/SleeplessCoder09/Machine-Learning-with-Python/blob/main/Stock_Prediction_Using_LSTM.ipynb\" target=\"_parent\"><img src=\"https://colab.research.google.com/assets/colab-badge.svg\" alt=\"Open In Colab\"/></a>"
      ]
    },
    {
      "cell_type": "code",
      "execution_count": 1,
      "metadata": {
        "id": "ohF5JJbpjUZQ"
      },
      "outputs": [],
      "source": [
        "# IMPORTING IMPORTANT LIBRARIES\n",
        "import pandas as pd\n",
        "import matplotlib.pyplot as plt\n",
        "import numpy as np \n",
        "import math\n",
        "from sklearn.preprocessing import MinMaxScaler,StandardScaler\n",
        "from sklearn.metrics import mean_squared_error\n",
        "from keras.models import Sequential\n",
        "from keras.layers import Dense, Activation\n",
        "from keras.layers import LSTM\n",
        "\n",
        "from pandas_datareader import data as pdr\n",
        "import yfinance as yf  \n",
        "import datetime"
      ]
    },
    {
      "cell_type": "code",
      "execution_count": 2,
      "metadata": {
        "id": "YAOxyNaGlKQx"
      },
      "outputs": [],
      "source": [
        "# FOR REPRODUCIBILITY\n",
        "np.random.seed(7)"
      ]
    },
    {
      "cell_type": "code",
      "execution_count": 4,
      "metadata": {
        "colab": {
          "base_uri": "https://localhost:8080/",
          "height": 255
        },
        "id": "aukihmfilXcn",
        "outputId": "3170a3ae-97bd-4c53-ca78-b24317cf366c"
      },
      "outputs": [
        {
          "output_type": "stream",
          "name": "stdout",
          "text": [
            "2023-05-17\n"
          ]
        },
        {
          "output_type": "execute_result",
          "data": {
            "text/plain": [
              "                                 Open        High         Low       Close  \\\n",
              "Date                                                                        \n",
              "2023-05-10 00:00:00-04:00  172.550003  174.429993  166.679993  168.539993   \n",
              "2023-05-11 00:00:00-04:00  168.699997  173.570007  166.789993  172.080002   \n",
              "2023-05-12 00:00:00-04:00  176.070007  177.380005  167.229996  167.979996   \n",
              "2023-05-15 00:00:00-04:00  167.660004  169.759995  164.550003  166.350006   \n",
              "2023-05-16 00:00:00-04:00  165.649994  169.520004  164.350006  166.520004   \n",
              "\n",
              "                              Volume  Dividends  Stock Splits  \n",
              "Date                                                           \n",
              "2023-05-10 00:00:00-04:00  119840700        0.0           0.0  \n",
              "2023-05-11 00:00:00-04:00  103889900        0.0           0.0  \n",
              "2023-05-12 00:00:00-04:00  157577100        0.0           0.0  \n",
              "2023-05-15 00:00:00-04:00  105592500        0.0           0.0  \n",
              "2023-05-16 00:00:00-04:00   96839500        0.0           0.0  "
            ],
            "text/html": [
              "\n",
              "  <div id=\"df-c3582dbb-d147-4d6e-88e7-024054ff5c4c\">\n",
              "    <div class=\"colab-df-container\">\n",
              "      <div>\n",
              "<style scoped>\n",
              "    .dataframe tbody tr th:only-of-type {\n",
              "        vertical-align: middle;\n",
              "    }\n",
              "\n",
              "    .dataframe tbody tr th {\n",
              "        vertical-align: top;\n",
              "    }\n",
              "\n",
              "    .dataframe thead th {\n",
              "        text-align: right;\n",
              "    }\n",
              "</style>\n",
              "<table border=\"1\" class=\"dataframe\">\n",
              "  <thead>\n",
              "    <tr style=\"text-align: right;\">\n",
              "      <th></th>\n",
              "      <th>Open</th>\n",
              "      <th>High</th>\n",
              "      <th>Low</th>\n",
              "      <th>Close</th>\n",
              "      <th>Volume</th>\n",
              "      <th>Dividends</th>\n",
              "      <th>Stock Splits</th>\n",
              "    </tr>\n",
              "    <tr>\n",
              "      <th>Date</th>\n",
              "      <th></th>\n",
              "      <th></th>\n",
              "      <th></th>\n",
              "      <th></th>\n",
              "      <th></th>\n",
              "      <th></th>\n",
              "      <th></th>\n",
              "    </tr>\n",
              "  </thead>\n",
              "  <tbody>\n",
              "    <tr>\n",
              "      <th>2023-05-10 00:00:00-04:00</th>\n",
              "      <td>172.550003</td>\n",
              "      <td>174.429993</td>\n",
              "      <td>166.679993</td>\n",
              "      <td>168.539993</td>\n",
              "      <td>119840700</td>\n",
              "      <td>0.0</td>\n",
              "      <td>0.0</td>\n",
              "    </tr>\n",
              "    <tr>\n",
              "      <th>2023-05-11 00:00:00-04:00</th>\n",
              "      <td>168.699997</td>\n",
              "      <td>173.570007</td>\n",
              "      <td>166.789993</td>\n",
              "      <td>172.080002</td>\n",
              "      <td>103889900</td>\n",
              "      <td>0.0</td>\n",
              "      <td>0.0</td>\n",
              "    </tr>\n",
              "    <tr>\n",
              "      <th>2023-05-12 00:00:00-04:00</th>\n",
              "      <td>176.070007</td>\n",
              "      <td>177.380005</td>\n",
              "      <td>167.229996</td>\n",
              "      <td>167.979996</td>\n",
              "      <td>157577100</td>\n",
              "      <td>0.0</td>\n",
              "      <td>0.0</td>\n",
              "    </tr>\n",
              "    <tr>\n",
              "      <th>2023-05-15 00:00:00-04:00</th>\n",
              "      <td>167.660004</td>\n",
              "      <td>169.759995</td>\n",
              "      <td>164.550003</td>\n",
              "      <td>166.350006</td>\n",
              "      <td>105592500</td>\n",
              "      <td>0.0</td>\n",
              "      <td>0.0</td>\n",
              "    </tr>\n",
              "    <tr>\n",
              "      <th>2023-05-16 00:00:00-04:00</th>\n",
              "      <td>165.649994</td>\n",
              "      <td>169.520004</td>\n",
              "      <td>164.350006</td>\n",
              "      <td>166.520004</td>\n",
              "      <td>96839500</td>\n",
              "      <td>0.0</td>\n",
              "      <td>0.0</td>\n",
              "    </tr>\n",
              "  </tbody>\n",
              "</table>\n",
              "</div>\n",
              "      <button class=\"colab-df-convert\" onclick=\"convertToInteractive('df-c3582dbb-d147-4d6e-88e7-024054ff5c4c')\"\n",
              "              title=\"Convert this dataframe to an interactive table.\"\n",
              "              style=\"display:none;\">\n",
              "        \n",
              "  <svg xmlns=\"http://www.w3.org/2000/svg\" height=\"24px\"viewBox=\"0 0 24 24\"\n",
              "       width=\"24px\">\n",
              "    <path d=\"M0 0h24v24H0V0z\" fill=\"none\"/>\n",
              "    <path d=\"M18.56 5.44l.94 2.06.94-2.06 2.06-.94-2.06-.94-.94-2.06-.94 2.06-2.06.94zm-11 1L8.5 8.5l.94-2.06 2.06-.94-2.06-.94L8.5 2.5l-.94 2.06-2.06.94zm10 10l.94 2.06.94-2.06 2.06-.94-2.06-.94-.94-2.06-.94 2.06-2.06.94z\"/><path d=\"M17.41 7.96l-1.37-1.37c-.4-.4-.92-.59-1.43-.59-.52 0-1.04.2-1.43.59L10.3 9.45l-7.72 7.72c-.78.78-.78 2.05 0 2.83L4 21.41c.39.39.9.59 1.41.59.51 0 1.02-.2 1.41-.59l7.78-7.78 2.81-2.81c.8-.78.8-2.07 0-2.86zM5.41 20L4 18.59l7.72-7.72 1.47 1.35L5.41 20z\"/>\n",
              "  </svg>\n",
              "      </button>\n",
              "      \n",
              "  <style>\n",
              "    .colab-df-container {\n",
              "      display:flex;\n",
              "      flex-wrap:wrap;\n",
              "      gap: 12px;\n",
              "    }\n",
              "\n",
              "    .colab-df-convert {\n",
              "      background-color: #E8F0FE;\n",
              "      border: none;\n",
              "      border-radius: 50%;\n",
              "      cursor: pointer;\n",
              "      display: none;\n",
              "      fill: #1967D2;\n",
              "      height: 32px;\n",
              "      padding: 0 0 0 0;\n",
              "      width: 32px;\n",
              "    }\n",
              "\n",
              "    .colab-df-convert:hover {\n",
              "      background-color: #E2EBFA;\n",
              "      box-shadow: 0px 1px 2px rgba(60, 64, 67, 0.3), 0px 1px 3px 1px rgba(60, 64, 67, 0.15);\n",
              "      fill: #174EA6;\n",
              "    }\n",
              "\n",
              "    [theme=dark] .colab-df-convert {\n",
              "      background-color: #3B4455;\n",
              "      fill: #D2E3FC;\n",
              "    }\n",
              "\n",
              "    [theme=dark] .colab-df-convert:hover {\n",
              "      background-color: #434B5C;\n",
              "      box-shadow: 0px 1px 3px 1px rgba(0, 0, 0, 0.15);\n",
              "      filter: drop-shadow(0px 1px 2px rgba(0, 0, 0, 0.3));\n",
              "      fill: #FFFFFF;\n",
              "    }\n",
              "  </style>\n",
              "\n",
              "      <script>\n",
              "        const buttonEl =\n",
              "          document.querySelector('#df-c3582dbb-d147-4d6e-88e7-024054ff5c4c button.colab-df-convert');\n",
              "        buttonEl.style.display =\n",
              "          google.colab.kernel.accessAllowed ? 'block' : 'none';\n",
              "\n",
              "        async function convertToInteractive(key) {\n",
              "          const element = document.querySelector('#df-c3582dbb-d147-4d6e-88e7-024054ff5c4c');\n",
              "          const dataTable =\n",
              "            await google.colab.kernel.invokeFunction('convertToInteractive',\n",
              "                                                     [key], {});\n",
              "          if (!dataTable) return;\n",
              "\n",
              "          const docLinkHtml = 'Like what you see? Visit the ' +\n",
              "            '<a target=\"_blank\" href=https://colab.research.google.com/notebooks/data_table.ipynb>data table notebook</a>'\n",
              "            + ' to learn more about interactive tables.';\n",
              "          element.innerHTML = '';\n",
              "          dataTable['output_type'] = 'display_data';\n",
              "          await google.colab.output.renderOutput(dataTable, element);\n",
              "          const docLink = document.createElement('div');\n",
              "          docLink.innerHTML = docLinkHtml;\n",
              "          element.appendChild(docLink);\n",
              "        }\n",
              "      </script>\n",
              "    </div>\n",
              "  </div>\n",
              "  "
            ]
          },
          "metadata": {},
          "execution_count": 4
        }
      ],
      "source": [
        "# # IMPORTING DATASET \n",
        "# dataset = pd.read_csv('SKX.csv', usecols=['Open','High','Low','Close'])\n",
        "# print(dataset)\n",
        "# # dataset = pd.read_csv('apple_share_price.csv', usecols=[1,2,3,4])\n",
        "# dataset = dataset.reindex(index = dataset.index[::-1])\n",
        "# dataset = dataset[::-1]\n",
        "# dataset\n",
        "yf.pdr_override()\n",
        "today = datetime.date.today()\n",
        "print(today)\n",
        "# data = yf.download('TSLA','2021-01-01',today)\n",
        "data = yf.Ticker('TSLA').history(period='max')\n",
        "data.head()\n",
        "data.tail()\n",
        "dataset = data[['Open','High','Low','Close']]\n",
        "dataset = dataset.reindex(index = dataset.index[::-1])\n",
        "dataset = dataset[::-1]\n",
        "data.tail()"
      ]
    },
    {
      "cell_type": "code",
      "execution_count": 4,
      "metadata": {
        "id": "7j5HNBM3RroJ"
      },
      "outputs": [],
      "source": []
    },
    {
      "cell_type": "code",
      "execution_count": 5,
      "metadata": {
        "id": "OQ9rIwXkmbHM"
      },
      "outputs": [],
      "source": [
        "# CREATING OWN INDEX FOR FLEXIBILITY\n",
        "obs = np.arange(1, len(dataset) + 1, 1)"
      ]
    },
    {
      "cell_type": "code",
      "execution_count": 6,
      "metadata": {
        "colab": {
          "base_uri": "https://localhost:8080/"
        },
        "id": "WR8PLqK8mce7",
        "outputId": "2d5f6b5a-d66b-4e69-f91f-8273589d91f7"
      },
      "outputs": [
        {
          "output_type": "execute_result",
          "data": {
            "text/plain": [
              "Date\n",
              "2010-06-29 00:00:00-04:00      1.423833\n",
              "2010-06-30 00:00:00-04:00      1.722333\n",
              "2010-07-01 00:00:00-04:00      1.552500\n",
              "2010-07-02 00:00:00-04:00      1.400166\n",
              "2010-07-06 00:00:00-04:00      1.199000\n",
              "                                ...    \n",
              "2023-05-10 00:00:00-04:00    170.549995\n",
              "2023-05-11 00:00:00-04:00    170.285000\n",
              "2023-05-12 00:00:00-04:00    172.165001\n",
              "2023-05-15 00:00:00-04:00    167.080002\n",
              "2023-05-16 00:00:00-04:00    166.510002\n",
              "Length: 3243, dtype: float64"
            ]
          },
          "metadata": {},
          "execution_count": 6
        }
      ],
      "source": [
        "# TAKING DIFFERENT INDICATORS FOR PREDICTION\n",
        "OHLC_avg = dataset.mean(axis = 1)\n",
        "HLC_avg = dataset[['High', 'Low', 'Close']].mean(axis = 1)\n",
        "close_val = dataset[['Close']]\n",
        "OHLC_avg"
      ]
    },
    {
      "cell_type": "code",
      "execution_count": 7,
      "metadata": {
        "colab": {
          "base_uri": "https://localhost:8080/",
          "height": 430
        },
        "id": "vRqQkVD4nRMn",
        "outputId": "a7e9b0ab-c8d2-4ceb-d314-104b7e932388"
      },
      "outputs": [
        {
          "output_type": "display_data",
          "data": {
            "text/plain": [
              "<Figure size 640x480 with 1 Axes>"
            ],
            "image/png": "[encoded data removed]"
          },
          "metadata": {}
        }
      ],
      "source": [
        "# PLOTTING ALL INDICATORS IN ONE PLOT\n",
        "plt.plot(obs, OHLC_avg, 'r', label = 'OHLC avg')\n",
        "plt.plot(obs, HLC_avg, 'b', label = 'HLC avg')\n",
        "plt.plot(obs, close_val, 'g', label = 'Closing price')\n",
        "plt.legend(loc = 'upper right')\n",
        "plt.show()"
      ]
    },
    {
      "cell_type": "code",
      "execution_count": 8,
      "metadata": {
        "id": "LI-W2mZDnsYD"
      },
      "outputs": [],
      "source": [
        "# PREPARATION OF TIME SERIES DATASE\n",
        "OHLC_avg = np.reshape(OHLC_avg.values, (len(OHLC_avg),1)) # 1664\n",
        "scaler = MinMaxScaler(feature_range=(0, 5))\n",
        "OHLC_avg = scaler.fit_transform(OHLC_avg)"
      ]
    },
    {
      "cell_type": "code",
      "execution_count": 9,
      "metadata": {
        "id": "Y3WtXxzonzOu"
      },
      "outputs": [],
      "source": [
        "# TRAIN-TEST SPLIT\n",
        "train_OHLC = int(len(OHLC_avg) * 0.8)\n",
        "test_OHLC = len(OHLC_avg) - train_OHLC\n",
        "train_OHLC, test_OHLC = OHLC_avg[0:train_OHLC,:], OHLC_avg[train_OHLC:len(OHLC_avg),:]"
      ]
    },
    {
      "cell_type": "code",
      "execution_count": 10,
      "metadata": {
        "id": "I94EZnmXol0a"
      },
      "outputs": [],
      "source": [
        "# TIME-SERIES DATASET (FOR TIME T, VALUES FOR TIME T+1)\n",
        "def new_dataset(dataset, step_size):\n",
        "\tdata_X, data_Y = [], []\n",
        "\tfor i in range(len(dataset)-step_size-1):\n",
        "\t\ta = dataset[i:(i+step_size), 0]\n",
        "\t\tdata_X.append(a)\n",
        "\t\tdata_Y.append(dataset[i + step_size, 0])\n",
        "\treturn np.array(data_X), np.array(data_Y)\n",
        "trainX, trainY = new_dataset(train_OHLC, 1)\n",
        "testX, testY = new_dataset(test_OHLC, 1)"
      ]
    },
    {
      "cell_type": "code",
      "execution_count": 11,
      "metadata": {
        "id": "fV1ZBx5upPCp"
      },
      "outputs": [],
      "source": [
        "def new_dataset(dataset, step_size):\n",
        "\tdata_X, data_Y = [], []\n",
        "\tfor i in range(len(dataset)-step_size-1):\n",
        "\t\ta = dataset[i:(i+step_size), 0]\n",
        "\t\tdata_X.append(a)\n",
        "\t\tdata_Y.append(dataset[i + step_size, 0])\n",
        "\treturn np.array(data_X), np.array(data_Y)"
      ]
    },
    {
      "cell_type": "code",
      "execution_count": 12,
      "metadata": {
        "colab": {
          "base_uri": "https://localhost:8080/"
        },
        "id": "B10eIP6TGLsQ",
        "outputId": "35e3061e-a890-48f5-9723-2c838c8a3d00"
      },
      "outputs": [
        {
          "output_type": "stream",
          "name": "stdout",
          "text": [
            "[[0.00440142]\n",
            " [0.00804756]\n",
            " [0.00597307]\n",
            " ...\n",
            " [1.74307946]\n",
            " [1.79035097]\n",
            " [1.79429034]]\n"
          ]
        }
      ],
      "source": [
        "print(trainX)"
      ]
    },
    {
      "cell_type": "code",
      "execution_count": 13,
      "metadata": {
        "colab": {
          "base_uri": "https://localhost:8080/"
        },
        "id": "e44Gq6TaGNeF",
        "outputId": "c4f1281a-a767-4cf8-d7cc-06a66e75318a"
      },
      "outputs": [
        {
          "output_type": "stream",
          "name": "stdout",
          "text": [
            "[0.00804756 0.00597307 0.00411234 ... 1.79035097 1.79429034 1.84400478]\n"
          ]
        }
      ],
      "source": [
        "print(trainY)"
      ]
    },
    {
      "cell_type": "code",
      "execution_count": 14,
      "metadata": {
        "id": "hDTAaH3GpEOW"
      },
      "outputs": [],
      "source": [
        "# RESHAPING TRAIN AND TEST DATA\n",
        "trainX = np.reshape(trainX, (trainX.shape[0], 1, trainX.shape[1]))\n",
        "testX = np.reshape(testX, (testX.shape[0], 1, testX.shape[1]))\n",
        "step_size = 1"
      ]
    },
    {
      "cell_type": "code",
      "execution_count": 14,
      "metadata": {
        "id": "Chwv0aMBEwRl"
      },
      "outputs": [],
      "source": []
    },
    {
      "cell_type": "code",
      "execution_count": 15,
      "metadata": {
        "id": "8500aqWSpSAW"
      },
      "outputs": [],
      "source": [
        "# LSTM MODEL\n",
        "model = Sequential()\n",
        "model.add(LSTM(32, input_shape=(1, step_size), return_sequences = True))\n",
        "model.add(LSTM(16))\n",
        "model.add(Dense(1))\n",
        "model.add(Activation('linear'))"
      ]
    },
    {
      "cell_type": "code",
      "execution_count": null,
      "metadata": {
        "colab": {
          "base_uri": "https://localhost:8080/"
        },
        "id": "HaNOEvXzpTwL",
        "outputId": "3b21b240-b2aa-44c7-d80e-d101d7c65b9c"
      },
      "outputs": [
        {
          "output_type": "stream",
          "name": "stdout",
          "text": [
            "Epoch 1/50\n",
            "2592/2592 - 10s - loss: 0.0820 - 10s/epoch - 4ms/step\n",
            "Epoch 2/50\n",
            "2592/2592 - 6s - loss: 0.0711 - 6s/epoch - 2ms/step\n",
            "Epoch 3/50\n",
            "2592/2592 - 7s - loss: 0.0673 - 7s/epoch - 3ms/step\n",
            "Epoch 4/50\n",
            "2592/2592 - 6s - loss: 0.0652 - 6s/epoch - 2ms/step\n",
            "Epoch 5/50\n",
            "2592/2592 - 7s - loss: 0.0638 - 7s/epoch - 3ms/step\n",
            "Epoch 6/50\n",
            "2592/2592 - 6s - loss: 0.0627 - 6s/epoch - 2ms/step\n",
            "Epoch 7/50\n",
            "2592/2592 - 7s - loss: 0.0618 - 7s/epoch - 3ms/step\n",
            "Epoch 8/50\n",
            "2592/2592 - 6s - loss: 0.0610 - 6s/epoch - 2ms/step\n",
            "Epoch 9/50\n",
            "2592/2592 - 7s - loss: 0.0602 - 7s/epoch - 3ms/step\n",
            "Epoch 10/50\n",
            "2592/2592 - 6s - loss: 0.0595 - 6s/epoch - 2ms/step\n",
            "Epoch 11/50\n",
            "2592/2592 - 8s - loss: 0.0587 - 8s/epoch - 3ms/step\n",
            "Epoch 12/50\n",
            "2592/2592 - 7s - loss: 0.0580 - 7s/epoch - 3ms/step\n",
            "Epoch 13/50\n",
            "2592/2592 - 6s - loss: 0.0573 - 6s/epoch - 2ms/step\n",
            "Epoch 14/50\n",
            "2592/2592 - 8s - loss: 0.0566 - 8s/epoch - 3ms/step\n",
            "Epoch 15/50\n",
            "2592/2592 - 6s - loss: 0.0559 - 6s/epoch - 2ms/step\n",
            "Epoch 16/50\n",
            "2592/2592 - 7s - loss: 0.0551 - 7s/epoch - 3ms/step\n",
            "Epoch 17/50\n",
            "2592/2592 - 6s - loss: 0.0544 - 6s/epoch - 2ms/step\n",
            "Epoch 18/50\n",
            "2592/2592 - 7s - loss: 0.0537 - 7s/epoch - 3ms/step\n",
            "Epoch 19/50\n"
          ]
        }
      ],
      "source": [
        "# MODEL COMPILING AND TRAINING\n",
        "model.compile(loss='mean_squared_error', optimizer='adagrad') # Try SGD, adam, adagrad and compare!!!\n",
        "model.fit(trainX, trainY, epochs=50, batch_size=1, verbose=2)"
      ]
    },
    {
      "cell_type": "code",
      "execution_count": null,
      "metadata": {
        "id": "47RwYuM1pebV"
      },
      "outputs": [],
      "source": [
        "# PREDICTION\n",
        "trainPredict = model.predict(trainX)\n",
        "testPredict = model.predict(testX)"
      ]
    },
    {
      "cell_type": "code",
      "execution_count": null,
      "metadata": {
        "id": "O8uSaECVDC6x"
      },
      "outputs": [],
      "source": [
        "# trainY = scaler.inverse_transform(trainY)\n",
        "trainY"
      ]
    },
    {
      "cell_type": "code",
      "execution_count": null,
      "metadata": {
        "id": "eJqJFTz9wbDT"
      },
      "outputs": [],
      "source": [
        "# DE-NORMALIZING FOR PLOTTING\n",
        "trainPredict = scaler.inverse_transform(trainPredict)\n",
        "trainY = scaler.inverse_transform([trainY])\n",
        "testPredict = scaler.inverse_transform(testPredict)\n",
        "testY = scaler.inverse_transform([testY])\n",
        "trainY"
      ]
    },
    {
      "cell_type": "code",
      "execution_count": null,
      "metadata": {
        "id": "2cUCU25Sp7um"
      },
      "outputs": [],
      "source": [
        "# TRAINING RMSE\n",
        "trainScore = math.sqrt(mean_squared_error(trainY[0], trainPredict[:,0]))\n",
        "print('Train RMSE: %.2f' % (trainScore))"
      ]
    },
    {
      "cell_type": "code",
      "execution_count": null,
      "metadata": {
        "id": "GwwbtDreqN3I"
      },
      "outputs": [],
      "source": [
        "# TEST RMSE\n",
        "testScore = math.sqrt(mean_squared_error(testY[0], testPredict[:,0]))\n",
        "print('Test RMSE: %.2f' % (testScore))"
      ]
    },
    {
      "cell_type": "code",
      "execution_count": null,
      "metadata": {
        "id": "hcIBtWu3qpwY"
      },
      "outputs": [],
      "source": [
        "# CREATING SIMILAR DATASET TO PLOT TRAINING PREDICTIONS\n",
        "trainPredictPlot = np.empty_like(OHLC_avg)\n",
        "trainPredictPlot[:, :] = np.nan\n",
        "trainPredictPlot[step_size:len(trainPredict)+step_size, :] = trainPredict"
      ]
    },
    {
      "cell_type": "code",
      "execution_count": null,
      "metadata": {
        "id": "PKmIRaypqwNU"
      },
      "outputs": [],
      "source": [
        "# CREATING SIMILAR DATASSET TO PLOT TEST PREDICTIONS\n",
        "testPredictPlot = np.empty_like(OHLC_avg)\n",
        "testPredictPlot[:, :] = np.nan\n",
        "testPredictPlot[len(trainPredict)+(step_size*2)+1:len(OHLC_avg)-1, :] = testPredict"
      ]
    },
    {
      "cell_type": "code",
      "execution_count": null,
      "metadata": {
        "id": "SmImT8JoqzGw"
      },
      "outputs": [],
      "source": [
        "# DE-NORMALIZING MAIN DATASET \n",
        "OHLC_avg = scaler.inverse_transform(OHLC_avg)"
      ]
    },
    {
      "cell_type": "code",
      "execution_count": null,
      "metadata": {
        "id": "HBO_0MWHrHI5"
      },
      "outputs": [],
      "source": [
        "# PLOT OF MAIN OHLC VALUES, TRAIN PREDICTIONS AND TEST PREDICTIONS\n",
        "plt.plot(OHLC_avg, 'g', label = 'original dataset')\n",
        "plt.plot(trainPredictPlot, 'r', label = 'training set')\n",
        "plt.plot(testPredictPlot, 'b', label = 'predicted stock price/test set')\n",
        "plt.legend(loc = 'upper right')\n",
        "plt.xlabel('Time in Days')\n",
        "plt.ylabel('OHLC Value of Apple Stocks')\n",
        "plt.show()"
      ]
    },
    {
      "cell_type": "code",
      "execution_count": null,
      "metadata": {
        "id": "poO2IvCLqqug"
      },
      "outputs": [],
      "source": [
        "last_val = testPredict[-1]\n",
        "last_val_scaled = last_val/last_val\n",
        "next_val = model.predict(np.reshape(last_val_scaled, (1,1,1)))\n",
        "print(\"Last Day Value:\", np.asscalar(last_val))\n",
        "print(\"Next Day Value:\", np.asscalar(last_val*next_val))"
      ]
    },
    {
      "cell_type": "code",
      "execution_count": null,
      "metadata": {
        "id": "w1unwSpyrYnS"
      },
      "outputs": [],
      "source": [
        "trainPredict"
      ]
    },
    {
      "cell_type": "code",
      "execution_count": null,
      "metadata": {
        "id": "qwIP7bAWM2oR"
      },
      "outputs": [],
      "source": [
        "# !pip install yfinance\n",
        "from pandas_datareader import data as pdr\n",
        "import yfinance as yf  \n",
        "import matplotlib.pyplot as plt\n",
        "yf.pdr_override()\n",
        "data = yf.download('USHAMART.NS','2021-01-01','2023-05-13')\n",
        "data.head()\n",
        "data.tail()"
      ]
    },
    {
      "cell_type": "markdown",
      "metadata": {
        "id": "G1hDWTW4IMSw"
      },
      "source": []
    }
  ],
  "metadata": {
    "colab": {
      "provenance": [],
      "authorship_tag": "ABX9TyMYZltf0MKzX3MeQRoh1Ag9",
      "include_colab_link": true
    },
    "kernelspec": {
      "display_name": "Python 3",
      "name": "python3"
    },
    "language_info": {
      "name": "python"
    }
  },
  "nbformat": 4,
  "nbformat_minor": 0
}